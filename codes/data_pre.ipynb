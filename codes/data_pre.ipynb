{
 "cells": [
  {
   "cell_type": "code",
   "execution_count": 1,
   "metadata": {},
   "outputs": [],
   "source": [
    "import pandas as pd\n",
    "import numpy as np\n",
    "import os, shutil"
   ]
  },
  {
   "cell_type": "code",
   "execution_count": 2,
   "metadata": {},
   "outputs": [],
   "source": [
    "base_dir = 'C:/Users/DELL/Documents/GitHub/covid-x-ray-classification/data'\n",
    "folders = ['COVID-19', 'NORMAL', 'Viral Pneumonia']"
   ]
  },
  {
   "cell_type": "code",
   "execution_count": 5,
   "metadata": {},
   "outputs": [],
   "source": [
    "c_l = [0 for i in range(len(os.listdir(os.path.join(base_dir, folders[0]))))]\n",
    "n_l = [1 for i in range(len(os.listdir(os.path.join(base_dir, folders[1]))))]\n",
    "v_l = [2 for i in range(len(os.listdir(os.path.join(base_dir, folders[2]))))]"
   ]
  },
  {
   "cell_type": "code",
   "execution_count": 7,
   "metadata": {},
   "outputs": [
    {
     "data": {
      "text/plain": [
       "(219, 1341, 1345)"
      ]
     },
     "execution_count": 7,
     "metadata": {},
     "output_type": "execute_result"
    }
   ],
   "source": [
    "len(c_l), len(n_l), len(v_l)"
   ]
  },
  {
   "cell_type": "code",
   "execution_count": 17,
   "metadata": {},
   "outputs": [],
   "source": [
    "train_dir = os.path.join(base_dir, 'train')\n",
    "os.mkdir(train_dir)\n",
    "validation_dir = os.path.join(base_dir, 'validation')\n",
    "os.mkdir(validation_dir)\n",
    "test_dir = os.path.join(base_dir, 'test')\n",
    "os.mkdir(test_dir)\n",
    "####################################################\n",
    "train_covid_dir = os.path.join(train_dir, 'covid')\n",
    "os.mkdir(train_covid_dir)\n",
    "train_normal_dir = os.path.join(train_dir, 'normal')\n",
    "os.mkdir(train_normal_dir)\n",
    "train_viral_dir = os.path.join(train_dir, 'viral')\n",
    "os.mkdir(train_viral_dir)\n",
    "####################################################\n",
    "validation_covid_dir = os.path.join(validation_dir, 'covid')\n",
    "os.mkdir(validation_covid_dir)\n",
    "validation_normal_dir = os.path.join(validation_dir, 'normal')\n",
    "os.mkdir(validation_normal_dir)\n",
    "validation_viral_dir = os.path.join(validation_dir, 'viral')\n",
    "os.mkdir(validation_viral_dir)\n",
    "#####################################################\n",
    "test_covid_dir = os.path.join(test_dir, 'covid')\n",
    "os.mkdir(test_covid_dir)\n",
    "test_normal_dir = os.path.join(test_dir, 'normal')\n",
    "os.mkdir(test_normal_dir)\n",
    "test_viral_dir = os.path.join(test_dir, 'viral')\n",
    "os.mkdir(test_viral_dir)\n",
    "####################################################"
   ]
  },
  {
   "cell_type": "code",
   "execution_count": 18,
   "metadata": {},
   "outputs": [],
   "source": [
    "####### Splitting covid-images\n",
    "fnames = os.listdir(os.path.join(base_dir, folders[0]))\n",
    "original_dataset_dir = 'C:/Users/DELL/Documents/GitHub/covid-x-ray-classification/data/COVID-19'\n",
    "for fname in fnames[:160]:\n",
    "    src = os.path.join(original_dataset_dir, fname)\n",
    "    dst = os.path.join(train_covid_dir, fname)\n",
    "    shutil.copyfile(src, dst)\n",
    "for fname in fnames[160:190]:\n",
    "    src = os.path.join(original_dataset_dir, fname)\n",
    "    dst = os.path.join(validation_covid_dir, fname)\n",
    "    shutil.copyfile(src, dst)\n",
    "for fname in fnames[190:219]:\n",
    "    src = os.path.join(original_dataset_dir, fname)\n",
    "    dst = os.path.join(test_covid_dir, fname)\n",
    "    shutil.copyfile(src, dst)\n",
    "##########################################\n",
    "######### Spliting normal images\n",
    "fnames = os.listdir(os.path.join(base_dir, folders[1]))\n",
    "original_dataset_dir = 'C:/Users/DELL/Documents/GitHub/covid-x-ray-classification/data/NORMAL'\n",
    "for fname in fnames[:1200]:\n",
    "    src = os.path.join(original_dataset_dir, fname)\n",
    "    dst = os.path.join(train_normal_dir, fname)\n",
    "    shutil.copyfile(src, dst)\n",
    "for fname in fnames[1200:1271]:\n",
    "    src = os.path.join(original_dataset_dir, fname)\n",
    "    dst = os.path.join(validation_normal_dir, fname)\n",
    "    shutil.copyfile(src, dst)\n",
    "for fname in fnames[1271:1341]:\n",
    "    src = os.path.join(original_dataset_dir, fname)\n",
    "    dst = os.path.join(test_normal_dir, fname)\n",
    "    shutil.copyfile(src, dst)\n",
    "############################################\n",
    "#Splitting viral images\n",
    "fnames = os.listdir(os.path.join(base_dir, folders[2]))\n",
    "original_dataset_dir = 'C:/Users/DELL/Documents/GitHub/covid-x-ray-classification/data/Viral Pneumonia'\n",
    "for fname in fnames[:1200]:\n",
    "    src = os.path.join(original_dataset_dir, fname)\n",
    "    dst = os.path.join(train_viral_dir, fname)\n",
    "    shutil.copyfile(src, dst)\n",
    "for fname in fnames[1200:1275]:\n",
    "    src = os.path.join(original_dataset_dir, fname)\n",
    "    dst = os.path.join(validation_viral_dir, fname)\n",
    "    shutil.copyfile(src, dst)\n",
    "for fname in fnames[1275:1345]:\n",
    "    src = os.path.join(original_dataset_dir, fname)\n",
    "    dst = os.path.join(test_viral_dir, fname)\n",
    "    shutil.copyfile(src, dst)"
   ]
  },
  {
   "cell_type": "code",
   "execution_count": null,
   "metadata": {},
   "outputs": [],
   "source": []
  }
 ],
 "metadata": {
  "kernelspec": {
   "display_name": "Python 3",
   "language": "python",
   "name": "python3"
  },
  "language_info": {
   "codemirror_mode": {
    "name": "ipython",
    "version": 3
   },
   "file_extension": ".py",
   "mimetype": "text/x-python",
   "name": "python",
   "nbconvert_exporter": "python",
   "pygments_lexer": "ipython3",
   "version": "3.7.6"
  }
 },
 "nbformat": 4,
 "nbformat_minor": 4
}
